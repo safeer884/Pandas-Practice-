{
 "cells": [
  {
   "cell_type": "markdown",
   "metadata": {},
   "source": [
    "# Practice Assignment :: 01"
   ]
  },
  {
   "cell_type": "markdown",
   "metadata": {},
   "source": [
    "# How to import pandas and check the version ?"
   ]
  },
  {
   "cell_type": "code",
   "execution_count": 30,
   "metadata": {},
   "outputs": [
    {
     "name": "stdout",
     "output_type": "stream",
     "text": [
      "<module 'pandas._version' from 'C:\\\\Users\\\\uc\\\\anaconda3\\\\anaconda\\\\lib\\\\site-packages\\\\pandas\\\\_version.py'>\n"
     ]
    }
   ],
   "source": [
    "import pandas as pd\n",
    "print(pd._version)"
   ]
  },
  {
   "cell_type": "markdown",
   "metadata": {},
   "source": [
    "# import useful libraries"
   ]
  },
  {
   "cell_type": "code",
   "execution_count": 6,
   "metadata": {},
   "outputs": [],
   "source": [
    "import matplotlib.pyplot as plt"
   ]
  },
  {
   "cell_type": "code",
   "execution_count": 10,
   "metadata": {},
   "outputs": [],
   "source": [
    "import seaborn as sns"
   ]
  },
  {
   "cell_type": "markdown",
   "metadata": {},
   "source": [
    "# How to create a series from a list, numpy array and dict?"
   ]
  },
  {
   "cell_type": "code",
   "execution_count": 14,
   "metadata": {},
   "outputs": [
    {
     "name": "stdout",
     "output_type": "stream",
     "text": [
      "{'a': 0, 'b': 1, 'c': 2, 'd': 3, 'e': 4, 'f': 5, 'g': 6, 'h': 7, 'i': 8, 'j': 9, 'k': 10, 'l': 11, 'm': 12, 'n': 13, 'o': 14, 'p': 15, 'q': 16, 'r': 17, 's': 18, 't': 19, 'u': 20, 'v': 21, 'w': 22, 'x': 23, 'y': 24, 'z': 25}\n"
     ]
    }
   ],
   "source": [
    "import numpy as np\n",
    "mylist = list ('abcdefghijklmnopqrstuvwxyz')\n",
    "myarr = np.arange(26)\n",
    "mydict = dict(zip(mylist, myarr))\n",
    "print(mydict)"
   ]
  },
  {
   "cell_type": "markdown",
   "metadata": {},
   "source": [
    "# How to convert the index of a series into a column of a dataframe?\n",
    "\n",
    "hint:\n",
    "\n",
    "convert the series ser into a dataframe with its index as another column on the dataframe."
   ]
  },
  {
   "cell_type": "code",
   "execution_count": 39,
   "metadata": {},
   "outputs": [
    {
     "name": "stdout",
     "output_type": "stream",
     "text": [
      "0         c\n",
      "1       c++\n",
      "2      Java\n",
      "3    Pyhton\n",
      "4      Perl\n",
      "5      Ruby\n",
      "6     Julia\n",
      "dtype: object\n"
     ]
    }
   ],
   "source": [
    "#Creating Series of programming Languages.\n",
    "s = pd.Series(['c', 'c++', 'Java', 'Pyhton', 'Perl', 'Ruby', 'Julia'])\n",
    "print(s)"
   ]
  },
  {
   "cell_type": "markdown",
   "metadata": {},
   "source": [
    "# How to combine many series to form a dataframe?"
   ]
  },
  {
   "cell_type": "code",
   "execution_count": 48,
   "metadata": {},
   "outputs": [
    {
     "name": "stdout",
     "output_type": "stream",
     "text": [
      "   a  b  idx_col\n",
      "7  1  5        7\n",
      "2  2  6        2\n",
      "8  3  7        8\n",
      "9  4  8        9\n"
     ]
    }
   ],
   "source": [
    "a = pd.Series([1,2,3,4], index=[7,2,8,9])\n",
    "b = pd.Series([5,6,7,8], index=[7,2,8,9])\n",
    "data = pd.DataFrame({'a': a,'b':b, 'idx_col':a.index})\n",
    "print(data)"
   ]
  },
  {
   "cell_type": "markdown",
   "metadata": {},
   "source": [
    "# How to calculate the number of characters in each word in a series?"
   ]
  },
  {
   "cell_type": "code",
   "execution_count": 4,
   "metadata": {},
   "outputs": [
    {
     "name": "stdout",
     "output_type": "stream",
     "text": [
      "Given Series:\n",
      "0      java\n",
      "1    Kotlin\n",
      "2    Python\n",
      "3     Scala\n",
      "4      Ruby\n",
      "dtype: object\n"
     ]
    }
   ],
   "source": [
    "words = pd.Series(['java', 'Kotlin', 'Python', 'Scala', 'Ruby'])\n",
    "print(\"Given Series:\")\n",
    "print(words)"
   ]
  },
  {
   "cell_type": "markdown",
   "metadata": {},
   "source": [
    "# How to filter valid emails from a series?\n",
    "Desired Output::\n",
    "1 rameses@egypt.com\n",
    "2 matt@t.com\n",
    "3 narendra@modi.com"
   ]
  },
  {
   "cell_type": "code",
   "execution_count": 21,
   "metadata": {},
   "outputs": [
    {
     "name": "stdout",
     "output_type": "stream",
     "text": [
      "0    buying books at amazon.com\n",
      "1             rameses@egypt.com\n",
      "2                    matt@t.com\n",
      "3             marendra@modi.com\n",
      "dtype: object\n",
      "[A-za-z0-9._%+-]+@[A-Za-z0-9.-]+\\.[A-Za-z]{2,4}\n"
     ]
    }
   ],
   "source": [
    "emails = pd.Series(['buying books at amazon.com', 'rameses@egypt.com', 'matt@t.com', 'marendra@modi.com'])\n",
    "pattern = '[A-za-z0-9._%+-]+@[A-Za-z0-9.-]+\\\\.[A-Za-z]{2,4}'\n",
    "print(emails)\n",
    "print(pattern)"
   ]
  },
  {
   "cell_type": "markdown",
   "metadata": {},
   "source": [
    "# How to replace missing space in a string with the least frequent character?\n",
    "Input::\n",
    "my_str='dbc dcb abed gade'\n",
    "\n",
    "Desired Output::\n",
    "'aiccbibxosjcuwry'# least frequent is'c'"
   ]
  },
  {
   "cell_type": "code",
   "execution_count": 23,
   "metadata": {},
   "outputs": [
    {
     "name": "stdout",
     "output_type": "stream",
     "text": [
      "Original series:\n",
      "abc def abcdef icd\n",
      "d    3\n",
      "     3\n",
      "c    3\n",
      "a    2\n",
      "f    2\n",
      "e    2\n",
      "b    2\n",
      "i    1\n",
      "dtype: int64\n",
      "abcidefiabcdefiicd\n"
     ]
    }
   ],
   "source": [
    "str1 = 'abc def abcdef icd'\n",
    "print(\"Original series:\")\n",
    "print(str1)\n",
    "ser = pd.Series(list(str1))\n",
    "element_freq = ser.value_counts()\n",
    "print(element_freq)\n",
    "current_freq = element_freq.dropna().index[-1]\n",
    "result = \"\".join(ser.replace(' ', current_freq))\n",
    "print(result)"
   ]
  },
  {
   "cell_type": "markdown",
   "metadata": {},
   "source": [
    "# How to swap two rows of a dataframe?"
   ]
  },
  {
   "cell_type": "code",
   "execution_count": 28,
   "metadata": {},
   "outputs": [
    {
     "name": "stdout",
     "output_type": "stream",
     "text": [
      "   A  B\n",
      "0  3  4\n",
      "1  3  4\n"
     ]
    }
   ],
   "source": [
    "a = pd.DataFrame(data = [[1,2],[3,4]], index=range(2), columns = ['A', 'B'])\n",
    "b, c = a.iloc[0], a.iloc[1]\n",
    "a.iloc[0], a.iloc[1] = c, b\n",
    "print(a)"
   ]
  },
  {
   "cell_type": "markdown",
   "metadata": {},
   "source": [
    "# How to get the positions where values of two columns match?"
   ]
  },
  {
   "cell_type": "code",
   "execution_count": null,
   "metadata": {},
   "outputs": [],
   "source": []
  },
  {
   "cell_type": "markdown",
   "metadata": {},
   "source": [
    "# How to replace both the diagonals of dataframe with 0?"
   ]
  },
  {
   "cell_type": "code",
   "execution_count": 36,
   "metadata": {},
   "outputs": [
    {
     "data": {
      "text/html": [
       "<div>\n",
       "<style scoped>\n",
       "    .dataframe tbody tr th:only-of-type {\n",
       "        vertical-align: middle;\n",
       "    }\n",
       "\n",
       "    .dataframe tbody tr th {\n",
       "        vertical-align: top;\n",
       "    }\n",
       "\n",
       "    .dataframe thead th {\n",
       "        text-align: right;\n",
       "    }\n",
       "</style>\n",
       "<table border=\"1\" class=\"dataframe\">\n",
       "  <thead>\n",
       "    <tr style=\"text-align: right;\">\n",
       "      <th></th>\n",
       "      <th>0</th>\n",
       "      <th>1</th>\n",
       "      <th>2</th>\n",
       "      <th>3</th>\n",
       "      <th>4</th>\n",
       "    </tr>\n",
       "  </thead>\n",
       "  <tbody>\n",
       "    <tr>\n",
       "      <th>0</th>\n",
       "      <td>0.153428</td>\n",
       "      <td>0.935299</td>\n",
       "      <td>0.717542</td>\n",
       "      <td>0.325583</td>\n",
       "      <td>0.013885</td>\n",
       "    </tr>\n",
       "    <tr>\n",
       "      <th>1</th>\n",
       "      <td>0.734874</td>\n",
       "      <td>0.628404</td>\n",
       "      <td>0.991732</td>\n",
       "      <td>0.728752</td>\n",
       "      <td>0.135569</td>\n",
       "    </tr>\n",
       "    <tr>\n",
       "      <th>2</th>\n",
       "      <td>0.333948</td>\n",
       "      <td>0.808864</td>\n",
       "      <td>0.502913</td>\n",
       "      <td>0.380497</td>\n",
       "      <td>0.232761</td>\n",
       "    </tr>\n",
       "    <tr>\n",
       "      <th>3</th>\n",
       "      <td>0.638718</td>\n",
       "      <td>0.821515</td>\n",
       "      <td>0.950814</td>\n",
       "      <td>0.860065</td>\n",
       "      <td>0.597708</td>\n",
       "    </tr>\n",
       "    <tr>\n",
       "      <th>4</th>\n",
       "      <td>0.127903</td>\n",
       "      <td>0.574486</td>\n",
       "      <td>0.343095</td>\n",
       "      <td>0.573663</td>\n",
       "      <td>0.702889</td>\n",
       "    </tr>\n",
       "  </tbody>\n",
       "</table>\n",
       "</div>"
      ],
      "text/plain": [
       "          0         1         2         3         4\n",
       "0  0.153428  0.935299  0.717542  0.325583  0.013885\n",
       "1  0.734874  0.628404  0.991732  0.728752  0.135569\n",
       "2  0.333948  0.808864  0.502913  0.380497  0.232761\n",
       "3  0.638718  0.821515  0.950814  0.860065  0.597708\n",
       "4  0.127903  0.574486  0.343095  0.573663  0.702889"
      ]
     },
     "execution_count": 36,
     "metadata": {},
     "output_type": "execute_result"
    }
   ],
   "source": [
    "import numpy\n",
    "import pandas\n",
    "df = pandas.DataFrame(numpy.random.rand(5,5))\n",
    "df"
   ]
  },
  {
   "cell_type": "code",
   "execution_count": 37,
   "metadata": {},
   "outputs": [
    {
     "data": {
      "text/html": [
       "<div>\n",
       "<style scoped>\n",
       "    .dataframe tbody tr th:only-of-type {\n",
       "        vertical-align: middle;\n",
       "    }\n",
       "\n",
       "    .dataframe tbody tr th {\n",
       "        vertical-align: top;\n",
       "    }\n",
       "\n",
       "    .dataframe thead th {\n",
       "        text-align: right;\n",
       "    }\n",
       "</style>\n",
       "<table border=\"1\" class=\"dataframe\">\n",
       "  <thead>\n",
       "    <tr style=\"text-align: right;\">\n",
       "      <th></th>\n",
       "      <th>0</th>\n",
       "      <th>1</th>\n",
       "      <th>2</th>\n",
       "      <th>3</th>\n",
       "      <th>4</th>\n",
       "    </tr>\n",
       "  </thead>\n",
       "  <tbody>\n",
       "    <tr>\n",
       "      <th>0</th>\n",
       "      <td>0.000000</td>\n",
       "      <td>0.935299</td>\n",
       "      <td>0.717542</td>\n",
       "      <td>0.325583</td>\n",
       "      <td>0.013885</td>\n",
       "    </tr>\n",
       "    <tr>\n",
       "      <th>1</th>\n",
       "      <td>0.734874</td>\n",
       "      <td>0.000000</td>\n",
       "      <td>0.991732</td>\n",
       "      <td>0.728752</td>\n",
       "      <td>0.135569</td>\n",
       "    </tr>\n",
       "    <tr>\n",
       "      <th>2</th>\n",
       "      <td>0.333948</td>\n",
       "      <td>0.808864</td>\n",
       "      <td>0.000000</td>\n",
       "      <td>0.380497</td>\n",
       "      <td>0.232761</td>\n",
       "    </tr>\n",
       "    <tr>\n",
       "      <th>3</th>\n",
       "      <td>0.638718</td>\n",
       "      <td>0.821515</td>\n",
       "      <td>0.950814</td>\n",
       "      <td>0.000000</td>\n",
       "      <td>0.597708</td>\n",
       "    </tr>\n",
       "    <tr>\n",
       "      <th>4</th>\n",
       "      <td>0.127903</td>\n",
       "      <td>0.574486</td>\n",
       "      <td>0.343095</td>\n",
       "      <td>0.573663</td>\n",
       "      <td>0.000000</td>\n",
       "    </tr>\n",
       "  </tbody>\n",
       "</table>\n",
       "</div>"
      ],
      "text/plain": [
       "          0         1         2         3         4\n",
       "0  0.000000  0.935299  0.717542  0.325583  0.013885\n",
       "1  0.734874  0.000000  0.991732  0.728752  0.135569\n",
       "2  0.333948  0.808864  0.000000  0.380497  0.232761\n",
       "3  0.638718  0.821515  0.950814  0.000000  0.597708\n",
       "4  0.127903  0.574486  0.343095  0.573663  0.000000"
      ]
     },
     "execution_count": 37,
     "metadata": {},
     "output_type": "execute_result"
    }
   ],
   "source": [
    "for i in range(len(df.index)):\n",
    "    for j in range(len(df.columns)):\n",
    "        if i==j:\n",
    "            df.loc[i,j] = 0\n",
    "df"
   ]
  },
  {
   "cell_type": "markdown",
   "metadata": {},
   "source": [
    "# How to get the particular group of a groupby dataframe by key?\n",
    "This is a question related to understanding of grouped dataframe."
   ]
  },
  {
   "cell_type": "code",
   "execution_count": 64,
   "metadata": {},
   "outputs": [
    {
     "name": "stdout",
     "output_type": "stream",
     "text": [
      "<function gb_df_key at 0x00000188C4F00EE8>\n"
     ]
    }
   ],
   "source": [
    "def gb_df_key(gb, key, orig_df):\n",
    "             ix = gb.indices[key]\n",
    "             return orig_df.ix[ix]\n",
    "print(gb_df_key)"
   ]
  },
  {
   "cell_type": "markdown",
   "metadata": {},
   "source": [
    "# Which column contains the highest number of row-wise maximum values?\n",
    "Obtain the column name with the highest number of row-wise maximum’s in df.¶"
   ]
  },
  {
   "cell_type": "code",
   "execution_count": 70,
   "metadata": {},
   "outputs": [
    {
     "name": "stdout",
     "output_type": "stream",
     "text": [
      "Original Dataframe Contents :\n",
      "    x     y     z\n",
      "a  22  16.0  23.0\n",
      "b  33   NaN  11.0\n",
      "c  44  34.0  11.0\n",
      "d  55  35.0   NaN\n",
      "e  66  36.0  13.0\n",
      "***** Get Maximum value in every column ***** \n",
      "Maximum value in each column : \n",
      "x    66.0\n",
      "y    36.0\n",
      "z    23.0\n",
      "dtype: float64\n",
      "***** Get Maximum value in every row ***** \n",
      "Maximum value in each row : \n",
      "a    23.0\n",
      "b    33.0\n",
      "c    44.0\n",
      "d    55.0\n",
      "e    66.0\n",
      "dtype: float64\n",
      "***** Get Maximum value in every column without skipping NaN ***** \n",
      "Maximum value in each column including NaN: \n",
      "x    66.0\n",
      "y     NaN\n",
      "z     NaN\n",
      "dtype: float64\n",
      "***** Get Maximum value in a single column ***** \n",
      "Maximum value in column 'y':  36.0\n",
      "Maximum value in column 'y':  36.0\n",
      "***** Get Maximum value in certain columns only ***** \n",
      "Maximum value in column 'y' & 'z': \n",
      "y    36.0\n",
      "z    23.0\n",
      "dtype: float64\n",
      "***** Get row index label of Maximum value in every column *****\n",
      "Max values of columns are at row index position :\n",
      "x    e\n",
      "y    e\n",
      "z    a\n",
      "dtype: object\n",
      "***** Get Column name of Maximum value in every row *****\n",
      "Max values of row are at following columns :\n",
      "a    z\n",
      "b    x\n",
      "c    x\n",
      "d    x\n",
      "e    x\n",
      "dtype: object\n"
     ]
    }
   ],
   "source": [
    "def main():\n",
    "   # List of Tuples\n",
    "   matrix = [(22, 16, 23),\n",
    "             (33, np.NaN, 11),\n",
    "             (44, 34, 11),\n",
    "             (55, 35, np.NaN),\n",
    "             (66, 36, 13)\n",
    "             ]\n",
    "   # Create a DataFrame object\n",
    "   dfObj = pd.DataFrame(matrix, index=list('abcde'), columns=list('xyz'))\n",
    "   print('Original Dataframe Contents :')\n",
    "   print(dfObj)\n",
    "   print('***** Get Maximum value in every column ***** ')\n",
    "   # Get a series containing maximum value of each column\n",
    "   maxValuesObj = dfObj.max()\n",
    "   print('Maximum value in each column : ')\n",
    "   print(maxValuesObj)\n",
    "   print('***** Get Maximum value in every row ***** ')\n",
    "   # Get a series containing maximum value of each row\n",
    "   maxValuesObj = dfObj.max(axis=1)\n",
    "   print('Maximum value in each row : ')\n",
    "   print(maxValuesObj)\n",
    "   print('***** Get Maximum value in every column without skipping NaN ***** ')\n",
    "   # Get a series containing maximum value of each column without skipping NaN\n",
    "   maxValuesObj = dfObj.max(skipna=False)\n",
    "   print('Maximum value in each column including NaN: ')\n",
    "   print(maxValuesObj)\n",
    "   print('***** Get Maximum value in a single column ***** ')\n",
    "   # Get maximum value of a single column 'y'\n",
    "   maxValue = dfObj['y'].max()\n",
    "   print(\"Maximum value in column 'y': \" , maxValue)\n",
    "   # Get maximum value of a single column 'y'\n",
    "   maxValue = dfObj.max()['y']\n",
    "   print(\"Maximum value in column 'y': \" , maxValue)\n",
    "   print('***** Get Maximum value in certain columns only ***** ')\n",
    "   # Get maximum value of a single column 'y'\n",
    "   maxValue = dfObj[['y', 'z']].max()\n",
    "   print(\"Maximum value in column 'y' & 'z': \")\n",
    "   print(maxValue)\n",
    "   print('***** Get row index label of Maximum value in every column *****')\n",
    "   # get the index position of max values in every column\n",
    "   maxValueIndexObj = dfObj.idxmax()\n",
    "   print(\"Max values of columns are at row index position :\")\n",
    "   print(maxValueIndexObj)\n",
    "   print('***** Get Column name of Maximum value in every row *****')\n",
    "   # get the column name of max values in every row\n",
    "   maxValueIndexObj = dfObj.idxmax(axis=1)\n",
    "   print(\"Max values of row are at following columns :\")\n",
    "   print(maxValueIndexObj)\n",
    "if __name__ == '__main__':\n",
    "   main()"
   ]
  },
  {
   "cell_type": "code",
   "execution_count": null,
   "metadata": {},
   "outputs": [],
   "source": []
  }
 ],
 "metadata": {
  "kernelspec": {
   "display_name": "Python 3",
   "language": "python",
   "name": "python3"
  },
  "language_info": {
   "codemirror_mode": {
    "name": "ipython",
    "version": 3
   },
   "file_extension": ".py",
   "mimetype": "text/x-python",
   "name": "python",
   "nbconvert_exporter": "python",
   "pygments_lexer": "ipython3",
   "version": "3.7.6"
  }
 },
 "nbformat": 4,
 "nbformat_minor": 4
}
